{
 "cells": [
  {
   "cell_type": "code",
   "execution_count": 1,
   "metadata": {},
   "outputs": [],
   "source": [
    "import oracledb\n",
    "import pandas as pd"
   ]
  },
  {
   "cell_type": "code",
   "execution_count": 2,
   "metadata": {},
   "outputs": [],
   "source": [
    "connection = oracledb.connect(\n",
    "    user = 'GROUP15',\n",
    "    password = 'mIdrROfKPu',\n",
    "    dsn = oracledb.makedsn('140.117.69.60', 1521, service_name = 'ORCLPDB1')\n",
    ")\n",
    "cursor = connection.cursor()"
   ]
  },
  {
   "cell_type": "code",
   "execution_count": 3,
   "metadata": {},
   "outputs": [],
   "source": [
    "df = pd.read_csv(\"C:\\\\Users\\\\user\\\\Desktop\\\\GlobalLandTemperaturesByMajorCity.csv\", encoding='utf-8')"
   ]
  },
  {
   "cell_type": "code",
   "execution_count": null,
   "metadata": {},
   "outputs": [],
   "source": [
    "df"
   ]
  },
  {
   "cell_type": "code",
   "execution_count": 6,
   "metadata": {},
   "outputs": [],
   "source": [
    "class DB():\n",
    "    def connect():\n",
    "        cursor = connection.cursor()\n",
    "        return cursor\n",
    "\n",
    "    def prepare(sql):\n",
    "        cursor = DB.connect()\n",
    "        cursor.prepare(sql)\n",
    "        return cursor\n",
    "\n",
    "    def execute(cursor, sql):\n",
    "        cursor.execute(sql)\n",
    "        return cursor\n",
    "\n",
    "    def execute_input(cursor, input):\n",
    "        cursor.execute(None, input)\n",
    "        return cursor\n",
    "\n",
    "    def fetchall(cursor):\n",
    "        return cursor.fetchall()\n",
    "\n",
    "    def fetchone(cursor):\n",
    "        return cursor.fetchone()\n",
    "\n",
    "    def commit():\n",
    "        connection.commit()"
   ]
  },
  {
   "cell_type": "code",
   "execution_count": null,
   "metadata": {},
   "outputs": [],
   "source": [
    "for index, row in df.iterrows():\n",
    "    sql = \"INSERT INTO temperaturesbycity VALUES (:1, :2, :3, :4, :5, :6)\"\n",
    "    cursor = DB.prepare(sql)\n",
    "    input = (row['dt'], row['AverageTemperature'], row['City'], row['Country'], row['Latitude'], row['Longitude'])\n",
    "    cursor = DB.execute_input(cursor, input)\n",
    "    DB.commit()"
   ]
  }
 ],
 "metadata": {
  "kernelspec": {
   "display_name": "Python 3",
   "language": "python",
   "name": "python3"
  },
  "language_info": {
   "codemirror_mode": {
    "name": "ipython",
    "version": 3
   },
   "file_extension": ".py",
   "mimetype": "text/x-python",
   "name": "python",
   "nbconvert_exporter": "python",
   "pygments_lexer": "ipython3",
   "version": "3.11.2"
  },
  "orig_nbformat": 4
 },
 "nbformat": 4,
 "nbformat_minor": 2
}
